{
 "cells": [
  {
   "cell_type": "code",
   "execution_count": null,
   "metadata": {},
   "outputs": [
    {
     "ename": "",
     "evalue": "",
     "output_type": "error",
     "traceback": [
      "\u001b[1;31mFailed to connect to the remote Jupyter Server 'http://10.60.49.187:8889/'. Verify the server is running and reachable. (request to http://10.60.49.187:8889/hub/api failed, reason: connect ECONNREFUSED 10.60.49.187:8889)."
     ]
    }
   ],
   "source": [
    "\n",
    "class A(object):\n",
    "    def __init__(self):\n",
    "        self.a = 1\n",
    "        self.b = 2\n",
    "        self.c = 3\n",
    "        \n",
    "    def __eq__(self, __o: object) -> bool:\n",
    "        return self.a == __o.a and self.b == __o.b and self.c == __o.c\n",
    "\n",
    "a = A()\n",
    "b = A()\n",
    "a == b"
   ]
  },
  {
   "cell_type": "code",
   "execution_count": 9,
   "metadata": {},
   "outputs": [],
   "source": [
    "from pathlib import Path as P\n",
    "import os\n",
    "dataset_root = P('/home/zhaobinguet/codes/PyTorch-Lightning_Template_for_Semantic_Segmentation/TianChiBuilding')\n",
    "train_set = dataset_root / 'train'\n",
    "mask_set = dataset_root / 'mask'\n",
    "pred_folder = dataset_root / 'preds'\n",
    "pred_img = pred_folder / 'pred_img'\n",
    "target_mask = pred_folder / 'target_mask'\n",
    "\n",
    "# 从train_set文件夹下随机抽取10张图片\n",
    "import random\n",
    "import shutil\n",
    " \n"
   ]
  },
  {
   "cell_type": "code",
   "execution_count": 7,
   "metadata": {},
   "outputs": [
    {
     "data": {
      "text/plain": [
       "['9JV3WTI1BA.jpg',\n",
       " 'TCQCDQV8K5.jpg',\n",
       " 'SEJPVWSAR9.jpg',\n",
       " '06TTOT340I.jpg',\n",
       " 'NDU5VT624A.jpg',\n",
       " '3DLXCVFST5.jpg',\n",
       " 'SZ7IY7VLTC.jpg',\n",
       " 'IFS0AEVDOS.jpg',\n",
       " 'MGA5FHDWQ2.jpg',\n",
       " 'O21GOSG1S4.jpg',\n",
       " 'HP1W7HAO6W.jpg',\n",
       " 'YOIHIVB6DX.jpg',\n",
       " 'PUD9BA5KTR.jpg',\n",
       " '5OVXHAOJPC.jpg',\n",
       " '48BHIU39LD.jpg',\n",
       " 'C6ANT911V5.jpg',\n",
       " 'QEFBJ7E07A.jpg',\n",
       " 'TIWVFKHNI2.jpg',\n",
       " '1PB7E7PWK8.jpg',\n",
       " 'M4X9YJPN0A.jpg',\n",
       " '1VNT61TUXG.jpg',\n",
       " 'ISTEI9EIF5.jpg',\n",
       " 'KBJNFJTZD9.jpg',\n",
       " 'SL9X48T805.jpg',\n",
       " '1GRGI2MRGJ.jpg']"
      ]
     },
     "execution_count": 7,
     "metadata": {},
     "output_type": "execute_result"
    }
   ],
   "source": [
    "random_list = random.sample(os.listdir(train_set), 25)\n",
    "random_list\n"
   ]
  },
  {
   "cell_type": "code",
   "execution_count": 10,
   "metadata": {},
   "outputs": [
    {
     "name": "stderr",
     "output_type": "stream",
     "text": [
      "100%|██████████| 25/25 [00:00<00:00, 1377.29it/s]\n"
     ]
    },
    {
     "ename": "",
     "evalue": "",
     "output_type": "error",
     "traceback": [
      "\u001b[1;31mThe Kernel crashed while executing code in the the current cell or a previous cell. Please review the code in the cell(s) to identify a possible cause of the failure. Click <a href='https://aka.ms/vscodeJupyterKernelCrash'>here</a> for more info. View Jupyter <a href='command:jupyter.viewOutput'>log</a> for further details."
     ]
    }
   ],
   "source": [
    "# 将抽取的图片复制到pred_img文件夹下\n",
    "from tqdm import tqdm\n",
    "for i in tqdm(random_list):\n",
    "    shutil.copy(train_set / i, pred_img / i)\n",
    "    shutil.copy(mask_set / i, target_mask / i)"
   ]
  }
 ],
 "metadata": {
  "kernelspec": {
   "display_name": "wcs_torch113",
   "language": "python",
   "name": "python3"
  },
  "language_info": {
   "codemirror_mode": {
    "name": "ipython",
    "version": 3
   },
   "file_extension": ".py",
   "mimetype": "text/x-python",
   "name": "python",
   "nbconvert_exporter": "python",
   "pygments_lexer": "ipython3",
   "version": "3.10.8"
  },
  "orig_nbformat": 4,
  "vscode": {
   "interpreter": {
    "hash": "bb19e13118803693911331b0bc5dbbffb004c11fb579dcd0365d112da466ee3a"
   }
  }
 },
 "nbformat": 4,
 "nbformat_minor": 2
}
