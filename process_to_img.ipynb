{
 "cells": [
  {
   "cell_type": "code",
   "execution_count": 4,
   "metadata": {},
   "outputs": [],
   "source": [
    "import cv2\n",
    "from pathlib import Path as P\n",
    "import pandas as pd\n",
    "data_root = P('/home/zhaobinguet/codes/datasets/TianChiBuilding')\n",
    "train_folder = data_root / 'train'\n",
    "train_mask_csv = data_root / 'train_mask.csv'\n",
    "\n",
    "# read the csv \n",
    "train_mask_df = pd.read_csv(train_mask_csv)\n"
   ]
  },
  {
   "cell_type": "code",
   "execution_count": 5,
   "metadata": {},
   "outputs": [],
   "source": [
    "import numpy as np\n",
    "\n",
    "import pandas as pd\n",
    "import cv2\n",
    "import matplotlib.pyplot as plt\n",
    "\n",
    "# 将图片编码为rle格式\n",
    "def rle_encode(im):\n",
    "    '''\n",
    "    im: numpy array, 1 - mask, 0 - background\n",
    "    Returns run length as string formated\n",
    "    '''\n",
    "    pixels = im.flatten(order = 'F')\n",
    "    pixels = np.concatenate([[0], pixels, [0]])\n",
    "    runs = np.where(pixels[1:] != pixels[:-1])[0] + 1\n",
    "    runs[1::2] -= runs[::2]\n",
    "    return ' '.join(str(x) for x in runs)\n",
    "\n",
    "# 将rle格式进行解码为图片\n",
    "def rle_decode(mask_rle, shape=(512, 512)):\n",
    "    '''\n",
    "    mask_rle: run-length as string formated (start length)\n",
    "    shape: (height,width) of array to return \n",
    "    Returns numpy array, 1 - mask, 0 - background\n",
    "\n",
    "    '''\n",
    "    s = mask_rle.split()\n",
    "    starts, lengths = [np.asarray(x, dtype=int) for x in (s[0:][::2], s[1:][::2])]\n",
    "    starts -= 1\n",
    "    ends = starts + lengths\n",
    "    img = np.zeros(shape[0]*shape[1], dtype=np.uint8)\n",
    "    for lo, hi in zip(starts, ends):\n",
    "        img[lo:hi] = 1\n",
    "    return img.reshape(shape, order='F')\n",
    "\n",
    "def show_examples(name: str, image: np.ndarray, mask: np.ndarray):\n",
    "    plt.figure(figsize=(10, 14))\n",
    "    plt.subplot(1, 2, 1)\n",
    "    plt.imshow(image)\n",
    "    plt.title(f\"Image: {name}\")\n",
    "\n",
    "    plt.subplot(1, 2, 2)\n",
    "    plt.imshow(mask, cmap='gray')\n",
    "    plt.title(f\"Mask: {name}\")\n",
    "    "
   ]
  },
  {
   "cell_type": "markdown",
   "metadata": {},
   "source": []
  },
  {
   "cell_type": "code",
   "execution_count": 6,
   "metadata": {},
   "outputs": [
    {
     "name": "stderr",
     "output_type": "stream",
     "text": [
      "100%|██████████| 30000/30000 [01:00<00:00, 497.13it/s]\n"
     ]
    }
   ],
   "source": [
    "import pandas\n",
    "import os\n",
    "from pathlib import Path as P\n",
    "from tqdm import tqdm\n",
    "from PIL import Image\n",
    "\n",
    "train_root = data_root / 'train'\n",
    "mask_root = data_root / 'mask'\n",
    "\n",
    "i = 0\n",
    "csv = pandas.read_csv(os.path.join(data_root, 'train_mask.csv'), sep='\\t', names=['name', 'mask'])\n",
    "with tqdm(total=len(csv['name'].iloc[:])) as pbar:\n",
    "    for file_name, mask_code in zip(csv['name'].iloc[:], csv['mask'].iloc[:]):\n",
    "        mask_code = '' if str(mask_code) == 'nan' else mask_code\n",
    "        raw_img = plt.imread(os.path.join(train_root, file_name))\n",
    "        mask_img = rle_decode(mask_code)\n",
    "        mask_img = Image.fromarray(mask_img * 255)\n",
    "        mask_img.save(mask_root / file_name)\n",
    "        pbar.update(1)\n"
   ]
  }
 ],
 "metadata": {
  "kernelspec": {
   "display_name": "wcs_torch113",
   "language": "python",
   "name": "python3"
  },
  "language_info": {
   "codemirror_mode": {
    "name": "ipython",
    "version": 3
   },
   "file_extension": ".py",
   "mimetype": "text/x-python",
   "name": "python",
   "nbconvert_exporter": "python",
   "pygments_lexer": "ipython3",
   "version": "3.10.8"
  },
  "orig_nbformat": 4,
  "vscode": {
   "interpreter": {
    "hash": "bb19e13118803693911331b0bc5dbbffb004c11fb579dcd0365d112da466ee3a"
   }
  }
 },
 "nbformat": 4,
 "nbformat_minor": 2
}
