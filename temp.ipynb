{
 "cells": [
  {
   "cell_type": "code",
   "execution_count": null,
   "metadata": {},
   "outputs": [
    {
     "ename": "",
     "evalue": "",
     "output_type": "error",
     "traceback": [
      "\u001b[1;31mFailed to connect to the remote Jupyter Server 'http://10.60.49.187:8889/'. Verify the server is running and reachable. (request to http://10.60.49.187:8889/hub/api failed, reason: connect ECONNREFUSED 10.60.49.187:8889)."
     ]
    }
   ],
   "source": [
    "\n",
    "class A(object):\n",
    "    def __init__(self):\n",
    "        self.a = 1\n",
    "        self.b = 2\n",
    "        self.c = 3\n",
    "        \n",
    "    def __eq__(self, __o: object) -> bool:\n",
    "        return self.a == __o.a and self.b == __o.b and self.c == __o.c\n",
    "\n",
    "a = A()\n",
    "b = A()\n",
    "a == b"
   ]
  }
 ],
 "metadata": {
  "kernelspec": {
   "display_name": "Python 3 (ipykernel)",
   "language": "python",
   "name": "python3"
  },
  "orig_nbformat": 4
 },
 "nbformat": 4,
 "nbformat_minor": 2
}
